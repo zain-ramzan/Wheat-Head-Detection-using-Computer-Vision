from ultralytics import YOLO

# Load a model
model = YOLO('yolov8n.pt')  # load a pretrained model (recommended for training)

# Train the model
results = model.train(data='GlobalWheat2020.yaml', epochs=100, imgsz=640)
